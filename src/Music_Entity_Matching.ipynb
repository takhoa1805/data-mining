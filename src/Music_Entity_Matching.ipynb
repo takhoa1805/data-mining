{
 "cells": [
  {
   "cell_type": "markdown",
   "metadata": {},
   "source": [
    "### 1. Preprocessing"
   ]
  },
  {
   "cell_type": "code",
   "execution_count": 2,
   "metadata": {},
   "outputs": [],
   "source": [
    "## Import some necessary libraries\n",
    "\n",
    "# !pip install py_entitymatching\n",
    "# !pip install pandas\n",
    "# !pip install numpy\n",
    "\n",
    "from numpy import int64\n",
    "import py_entitymatching as em\n",
    "import pandas as pd\n",
    "import os"
   ]
  },
  {
   "cell_type": "code",
   "execution_count": 3,
   "metadata": {},
   "outputs": [
    {
     "name": "stderr",
     "output_type": "stream",
     "text": [
      "Metadata file is not present in the given path; proceeding to read the csv file.\n",
      "Metadata file is not present in the given path; proceeding to read the csv file.\n"
     ]
    },
    {
     "data": {
      "text/html": [
       "<div>\n",
       "<style scoped>\n",
       "    .dataframe tbody tr th:only-of-type {\n",
       "        vertical-align: middle;\n",
       "    }\n",
       "\n",
       "    .dataframe tbody tr th {\n",
       "        vertical-align: top;\n",
       "    }\n",
       "\n",
       "    .dataframe thead th {\n",
       "        text-align: right;\n",
       "    }\n",
       "</style>\n",
       "<table border=\"1\" class=\"dataframe\">\n",
       "  <thead>\n",
       "    <tr style=\"text-align: right;\">\n",
       "      <th></th>\n",
       "      <th>id</th>\n",
       "      <th>Song_Name</th>\n",
       "      <th>Artist_Name</th>\n",
       "      <th>Album_Name</th>\n",
       "      <th>Genre</th>\n",
       "      <th>Price</th>\n",
       "      <th>CopyRight</th>\n",
       "      <th>Time</th>\n",
       "      <th>Released</th>\n",
       "    </tr>\n",
       "  </thead>\n",
       "  <tbody>\n",
       "    <tr>\n",
       "      <th>0</th>\n",
       "      <td>0</td>\n",
       "      <td>Runaway Train</td>\n",
       "      <td>Cam</td>\n",
       "      <td>Welcome to Cam Country - EP</td>\n",
       "      <td>Country , Music , Contemporary Country , Honky Tonk</td>\n",
       "      <td>$0.99</td>\n",
       "      <td>2015 Sony Music Entertainment</td>\n",
       "      <td>3:01</td>\n",
       "      <td>31-Mar-15</td>\n",
       "    </tr>\n",
       "    <tr>\n",
       "      <th>1</th>\n",
       "      <td>1</td>\n",
       "      <td>Track 14</td>\n",
       "      <td>Omi</td>\n",
       "      <td>Me 4 U</td>\n",
       "      <td>Pop/Rock , Music , Pop , Dance , R&amp;B / Soul</td>\n",
       "      <td>Album Only</td>\n",
       "      <td>2015 Ultra Records , LLC under exclusive license to Columbia Records , a Division of Sony Music ...</td>\n",
       "      <td>3:41</td>\n",
       "      <td>NaN</td>\n",
       "    </tr>\n",
       "    <tr>\n",
       "      <th>2</th>\n",
       "      <td>2</td>\n",
       "      <td>Lips Are Movin</td>\n",
       "      <td>Meghan Trainor</td>\n",
       "      <td>Title</td>\n",
       "      <td>Pop , Music , Pop/Rock , Dance , Rock , Teen Pop</td>\n",
       "      <td>$1.29</td>\n",
       "      <td>2014 , 2015 Epic Records , a division of Sony Music Entertainment</td>\n",
       "      <td>3:01</td>\n",
       "      <td>9-Jan-15</td>\n",
       "    </tr>\n",
       "    <tr>\n",
       "      <th>3</th>\n",
       "      <td>3</td>\n",
       "      <td>I Want a Hippopotamus for Christmas</td>\n",
       "      <td>A Great Big World</td>\n",
       "      <td>I 'll Be Home For Christmas</td>\n",
       "      <td>Holiday , Music</td>\n",
       "      <td>$1.29</td>\n",
       "      <td>Compilation ( P ) 2014 Epic Records , a division of Sony Music Entertainment</td>\n",
       "      <td>2:20</td>\n",
       "      <td>24-Nov-14</td>\n",
       "    </tr>\n",
       "    <tr>\n",
       "      <th>4</th>\n",
       "      <td>4</td>\n",
       "      <td>Credit</td>\n",
       "      <td>Meghan Trainor</td>\n",
       "      <td>Title ( Deluxe )</td>\n",
       "      <td>Pop , Music , Rock , Pop/Rock , Dance , Teen Pop</td>\n",
       "      <td>$1.29</td>\n",
       "      <td>2014 , 2015 Epic Records , a division of Sony Music Entertainment</td>\n",
       "      <td>2:51</td>\n",
       "      <td>9-Jan-15</td>\n",
       "    </tr>\n",
       "  </tbody>\n",
       "</table>\n",
       "</div>"
      ],
      "text/plain": [
       "   id                            Song_Name        Artist_Name  \\\n",
       "0   0                        Runaway Train                Cam   \n",
       "1   1                             Track 14                Omi   \n",
       "2   2                       Lips Are Movin     Meghan Trainor   \n",
       "3   3  I Want a Hippopotamus for Christmas  A Great Big World   \n",
       "4   4                               Credit     Meghan Trainor   \n",
       "\n",
       "                    Album_Name  \\\n",
       "0  Welcome to Cam Country - EP   \n",
       "1                       Me 4 U   \n",
       "2                        Title   \n",
       "3  I 'll Be Home For Christmas   \n",
       "4             Title ( Deluxe )   \n",
       "\n",
       "                                                 Genre       Price  \\\n",
       "0  Country , Music , Contemporary Country , Honky Tonk      $0.99    \n",
       "1          Pop/Rock , Music , Pop , Dance , R&B / Soul  Album Only   \n",
       "2     Pop , Music , Pop/Rock , Dance , Rock , Teen Pop      $1.29    \n",
       "3                                      Holiday , Music      $1.29    \n",
       "4     Pop , Music , Rock , Pop/Rock , Dance , Teen Pop      $1.29    \n",
       "\n",
       "                                                                                             CopyRight  \\\n",
       "0                                                                        2015 Sony Music Entertainment   \n",
       "1  2015 Ultra Records , LLC under exclusive license to Columbia Records , a Division of Sony Music ...   \n",
       "2                                    2014 , 2015 Epic Records , a division of Sony Music Entertainment   \n",
       "3                         Compilation ( P ) 2014 Epic Records , a division of Sony Music Entertainment   \n",
       "4                                    2014 , 2015 Epic Records , a division of Sony Music Entertainment   \n",
       "\n",
       "   Time   Released  \n",
       "0  3:01  31-Mar-15  \n",
       "1  3:41        NaN  \n",
       "2  3:01   9-Jan-15  \n",
       "3  2:20  24-Nov-14  \n",
       "4  2:51   9-Jan-15  "
      ]
     },
     "execution_count": 3,
     "metadata": {},
     "output_type": "execute_result"
    }
   ],
   "source": [
    "## Read the CSV files\n",
    "A = em.read_csv_metadata('../data/tableA.csv',key='id')\n",
    "B = em.read_csv_metadata('../data/tableB.csv',key='id')\n",
    "\n",
    "A.head()"
   ]
  },
  {
   "cell_type": "code",
   "execution_count": null,
   "metadata": {},
   "outputs": [
    {
     "ename": "",
     "evalue": "",
     "output_type": "error",
     "traceback": [
      "\u001b[1;31mRunning cells with 'Python 3.12.2' requires the ipykernel package.\n",
      "\u001b[1;31mRun the following command to install 'ipykernel' into the Python environment. \n",
      "\u001b[1;31mCommand: 'c:/Users/takho/AppData/Local/Microsoft/WindowsApps/python3.12.exe -m pip install ipykernel -U --user --force-reinstall'"
     ]
    }
   ],
   "source": [
    "B.head(2)"
   ]
  },
  {
   "cell_type": "code",
   "execution_count": 5,
   "metadata": {},
   "outputs": [
    {
     "name": "stdout",
     "output_type": "stream",
     "text": [
      "List of attributes in A: Index(['id', 'Song_Name', 'Artist_Name', 'Album_Name', 'Genre', 'Price',\n",
      "       'CopyRight', 'Time', 'Released'],\n",
      "      dtype='object')\n",
      "List of attributes in B: Index(['id', 'artist_name', 'track_name', 'release_date', 'genre', 'lyrics',\n",
      "       'len', 'dating', 'violence', 'world/life', 'night/time',\n",
      "       'shake the audience', 'family/gospel', 'romantic', 'communication',\n",
      "       'obscene', 'music', 'movement/places', 'light/visual perceptions',\n",
      "       'family/spiritual', 'like/girls', 'sadness', 'feelings', 'danceability',\n",
      "       'loudness', 'acousticness', 'instrumentalness', 'valence', 'energy',\n",
      "       'topic', 'age'],\n",
      "      dtype='object')\n"
     ]
    }
   ],
   "source": [
    "## List the names of the attributes in the input tables\n",
    "print(\"List of attributes in A:\", A.columns)\n",
    "print(\"List of attributes in B:\", B.columns)"
   ]
  },
  {
   "cell_type": "code",
   "execution_count": 6,
   "metadata": {},
   "outputs": [
    {
     "data": {
      "text/html": [
       "<div>\n",
       "<style scoped>\n",
       "    .dataframe tbody tr th:only-of-type {\n",
       "        vertical-align: middle;\n",
       "    }\n",
       "\n",
       "    .dataframe tbody tr th {\n",
       "        vertical-align: top;\n",
       "    }\n",
       "\n",
       "    .dataframe thead th {\n",
       "        text-align: right;\n",
       "    }\n",
       "</style>\n",
       "<table border=\"1\" class=\"dataframe\">\n",
       "  <thead>\n",
       "    <tr style=\"text-align: right;\">\n",
       "      <th></th>\n",
       "      <th>id</th>\n",
       "      <th>Song_Name</th>\n",
       "      <th>Artist_Name</th>\n",
       "      <th>Genre</th>\n",
       "      <th>Released</th>\n",
       "    </tr>\n",
       "  </thead>\n",
       "  <tbody>\n",
       "    <tr>\n",
       "      <th>0</th>\n",
       "      <td>0</td>\n",
       "      <td>Runaway Train</td>\n",
       "      <td>Cam</td>\n",
       "      <td>Country , Music , Contemporary Country , Honky Tonk</td>\n",
       "      <td>31-Mar-15</td>\n",
       "    </tr>\n",
       "    <tr>\n",
       "      <th>1</th>\n",
       "      <td>1</td>\n",
       "      <td>Track 14</td>\n",
       "      <td>Omi</td>\n",
       "      <td>Pop/Rock , Music , Pop , Dance , R&amp;B / Soul</td>\n",
       "      <td>NaN</td>\n",
       "    </tr>\n",
       "    <tr>\n",
       "      <th>2</th>\n",
       "      <td>2</td>\n",
       "      <td>Lips Are Movin</td>\n",
       "      <td>Meghan Trainor</td>\n",
       "      <td>Pop , Music , Pop/Rock , Dance , Rock , Teen Pop</td>\n",
       "      <td>9-Jan-15</td>\n",
       "    </tr>\n",
       "    <tr>\n",
       "      <th>3</th>\n",
       "      <td>3</td>\n",
       "      <td>I Want a Hippopotamus for Christmas</td>\n",
       "      <td>A Great Big World</td>\n",
       "      <td>Holiday , Music</td>\n",
       "      <td>24-Nov-14</td>\n",
       "    </tr>\n",
       "    <tr>\n",
       "      <th>4</th>\n",
       "      <td>4</td>\n",
       "      <td>Credit</td>\n",
       "      <td>Meghan Trainor</td>\n",
       "      <td>Pop , Music , Rock , Pop/Rock , Dance , Teen Pop</td>\n",
       "      <td>9-Jan-15</td>\n",
       "    </tr>\n",
       "  </tbody>\n",
       "</table>\n",
       "</div>"
      ],
      "text/plain": [
       "   id                            Song_Name        Artist_Name  \\\n",
       "0   0                        Runaway Train                Cam   \n",
       "1   1                             Track 14                Omi   \n",
       "2   2                       Lips Are Movin     Meghan Trainor   \n",
       "3   3  I Want a Hippopotamus for Christmas  A Great Big World   \n",
       "4   4                               Credit     Meghan Trainor   \n",
       "\n",
       "                                                 Genre   Released  \n",
       "0  Country , Music , Contemporary Country , Honky Tonk  31-Mar-15  \n",
       "1          Pop/Rock , Music , Pop , Dance , R&B / Soul        NaN  \n",
       "2     Pop , Music , Pop/Rock , Dance , Rock , Teen Pop   9-Jan-15  \n",
       "3                                      Holiday , Music  24-Nov-14  \n",
       "4     Pop , Music , Rock , Pop/Rock , Dance , Teen Pop   9-Jan-15  "
      ]
     },
     "execution_count": 6,
     "metadata": {},
     "output_type": "execute_result"
    }
   ],
   "source": [
    "## Create new data containing some necessary attributes\n",
    "newA = A[['id', 'Song_Name', 'Artist_Name', 'Genre', 'Released']]\n",
    "newB = B[['id', 'track_name', 'artist_name', 'genre', 'release_date']]\n",
    "\n",
    "## Rename the attributes in the new data\n",
    "newA.columns = ['id', 'Song_Name', 'Artist_Name', 'Genre', 'Released']\n",
    "newB.columns = ['id', 'Song_Name', 'Artist_Name', 'Genre', 'Released']\n",
    "\n",
    "## Display the new data\n",
    "newA.head()\n",
    "# print(newB.head())"
   ]
  },
  {
   "cell_type": "code",
   "execution_count": 7,
   "metadata": {},
   "outputs": [
    {
     "data": {
      "text/html": [
       "<div>\n",
       "<style scoped>\n",
       "    .dataframe tbody tr th:only-of-type {\n",
       "        vertical-align: middle;\n",
       "    }\n",
       "\n",
       "    .dataframe tbody tr th {\n",
       "        vertical-align: top;\n",
       "    }\n",
       "\n",
       "    .dataframe thead th {\n",
       "        text-align: right;\n",
       "    }\n",
       "</style>\n",
       "<table border=\"1\" class=\"dataframe\">\n",
       "  <thead>\n",
       "    <tr style=\"text-align: right;\">\n",
       "      <th></th>\n",
       "      <th>id</th>\n",
       "      <th>Song_Name</th>\n",
       "      <th>Artist_Name</th>\n",
       "      <th>Genre</th>\n",
       "      <th>Released</th>\n",
       "    </tr>\n",
       "  </thead>\n",
       "  <tbody>\n",
       "    <tr>\n",
       "      <th>0</th>\n",
       "      <td>0</td>\n",
       "      <td>mohabbat bhi jhoothi</td>\n",
       "      <td>mukesh</td>\n",
       "      <td>pop</td>\n",
       "      <td>1950</td>\n",
       "    </tr>\n",
       "    <tr>\n",
       "      <th>1</th>\n",
       "      <td>4</td>\n",
       "      <td>i believe</td>\n",
       "      <td>frankie laine</td>\n",
       "      <td>pop</td>\n",
       "      <td>1950</td>\n",
       "    </tr>\n",
       "    <tr>\n",
       "      <th>2</th>\n",
       "      <td>6</td>\n",
       "      <td>cry</td>\n",
       "      <td>johnnie ray</td>\n",
       "      <td>pop</td>\n",
       "      <td>1950</td>\n",
       "    </tr>\n",
       "    <tr>\n",
       "      <th>3</th>\n",
       "      <td>10</td>\n",
       "      <td>patricia</td>\n",
       "      <td>pérez prado</td>\n",
       "      <td>pop</td>\n",
       "      <td>1950</td>\n",
       "    </tr>\n",
       "    <tr>\n",
       "      <th>4</th>\n",
       "      <td>12</td>\n",
       "      <td>apopse eida oneiro</td>\n",
       "      <td>giorgos papadopoulos</td>\n",
       "      <td>pop</td>\n",
       "      <td>1950</td>\n",
       "    </tr>\n",
       "  </tbody>\n",
       "</table>\n",
       "</div>"
      ],
      "text/plain": [
       "   id             Song_Name           Artist_Name Genre  Released\n",
       "0   0  mohabbat bhi jhoothi                mukesh   pop      1950\n",
       "1   4             i believe         frankie laine   pop      1950\n",
       "2   6                   cry           johnnie ray   pop      1950\n",
       "3  10              patricia           pérez prado   pop      1950\n",
       "4  12    apopse eida oneiro  giorgos papadopoulos   pop      1950"
      ]
     },
     "execution_count": 7,
     "metadata": {},
     "output_type": "execute_result"
    }
   ],
   "source": [
    "newB.head()"
   ]
  },
  {
   "cell_type": "code",
   "execution_count": 8,
   "metadata": {},
   "outputs": [
    {
     "data": {
      "text/plain": [
       "True"
      ]
     },
     "execution_count": 8,
     "metadata": {},
     "output_type": "execute_result"
    }
   ],
   "source": [
    "## Preprocess the new data\n",
    "\n",
    "# Drop NA values from the new data\n",
    "newA = newA.dropna()\n",
    "newB = newB.dropna()\n",
    "\n",
    "# Convert the attributes to lowercase\n",
    "newA['Song_Name'] = newA['Song_Name'].str.lower()\n",
    "newA['Artist_Name'] = newA['Artist_Name'].str.lower()\n",
    "newA['Genre'] = newA['Genre'].str.lower()\n",
    "\n",
    "newB['Song_Name'] = newB['Song_Name'].str.lower()\n",
    "newB['Artist_Name'] = newB['Artist_Name'].str.lower()\n",
    "newB['Genre'] = newB['Genre'].str.lower()\n",
    "\n",
    "# Set key attribute for the new data\n",
    "em.set_key(newA, 'id')\n",
    "em.set_key(newB, 'id')\n"
   ]
  },
  {
   "cell_type": "code",
   "execution_count": 9,
   "metadata": {},
   "outputs": [
    {
     "name": "stdout",
     "output_type": "stream",
     "text": [
      "Length of A: 6603\n",
      "Length of B: 28372\n",
      "Length of A X B: 187340316\n"
     ]
    }
   ],
   "source": [
    "## Evaluate length of the new data\n",
    "print(\"Length of A:\", len(newA))\n",
    "print(\"Length of B:\", len(newB))\n",
    "print(\"Length of A X B:\", len(newA)*len(newB))"
   ]
  },
  {
   "cell_type": "code",
   "execution_count": 10,
   "metadata": {},
   "outputs": [
    {
     "name": "stdout",
     "output_type": "stream",
     "text": [
      "Length of Sample A: 1591\n",
      "Length of Sample B: 10000\n"
     ]
    }
   ],
   "source": [
    "## Downsample the new data\n",
    "sample_A, sample_B = em.down_sample(newA, newB, size=10000, y_param=1, show_progress=False)\n",
    "\n",
    "## Evaluate length of the downsampled data\n",
    "print(\"Length of Sample A:\", len(sample_A))\n",
    "print(\"Length of Sample B:\", len(sample_B))"
   ]
  },
  {
   "cell_type": "code",
   "execution_count": 11,
   "metadata": {},
   "outputs": [
    {
     "data": {
      "text/html": [
       "<div>\n",
       "<style scoped>\n",
       "    .dataframe tbody tr th:only-of-type {\n",
       "        vertical-align: middle;\n",
       "    }\n",
       "\n",
       "    .dataframe tbody tr th {\n",
       "        vertical-align: top;\n",
       "    }\n",
       "\n",
       "    .dataframe thead th {\n",
       "        text-align: right;\n",
       "    }\n",
       "</style>\n",
       "<table border=\"1\" class=\"dataframe\">\n",
       "  <thead>\n",
       "    <tr style=\"text-align: right;\">\n",
       "      <th></th>\n",
       "      <th>id</th>\n",
       "      <th>Song_Name</th>\n",
       "      <th>Artist_Name</th>\n",
       "      <th>Genre</th>\n",
       "      <th>Released</th>\n",
       "    </tr>\n",
       "  </thead>\n",
       "  <tbody>\n",
       "    <tr>\n",
       "      <th>0</th>\n",
       "      <td>0</td>\n",
       "      <td>runaway train</td>\n",
       "      <td>cam</td>\n",
       "      <td>country , music , contemporary country , honky tonk</td>\n",
       "      <td>31-Mar-15</td>\n",
       "    </tr>\n",
       "    <tr>\n",
       "      <th>2</th>\n",
       "      <td>2</td>\n",
       "      <td>lips are movin</td>\n",
       "      <td>meghan trainor</td>\n",
       "      <td>pop , music , pop/rock , dance , rock , teen pop</td>\n",
       "      <td>9-Jan-15</td>\n",
       "    </tr>\n",
       "    <tr>\n",
       "      <th>3</th>\n",
       "      <td>3</td>\n",
       "      <td>i want a hippopotamus for christmas</td>\n",
       "      <td>a great big world</td>\n",
       "      <td>holiday , music</td>\n",
       "      <td>24-Nov-14</td>\n",
       "    </tr>\n",
       "    <tr>\n",
       "      <th>4326</th>\n",
       "      <td>4326</td>\n",
       "      <td>tackle box</td>\n",
       "      <td>luke bryan</td>\n",
       "      <td>country , music , contemporary country , pop</td>\n",
       "      <td>14-Aug-07</td>\n",
       "    </tr>\n",
       "    <tr>\n",
       "      <th>10</th>\n",
       "      <td>10</td>\n",
       "      <td>wrapped up ( live )</td>\n",
       "      <td>olly murs</td>\n",
       "      <td>pop , music</td>\n",
       "      <td>21-Apr-15</td>\n",
       "    </tr>\n",
       "  </tbody>\n",
       "</table>\n",
       "</div>"
      ],
      "text/plain": [
       "        id                            Song_Name        Artist_Name  \\\n",
       "0        0                        runaway train                cam   \n",
       "2        2                       lips are movin     meghan trainor   \n",
       "3        3  i want a hippopotamus for christmas  a great big world   \n",
       "4326  4326                           tackle box         luke bryan   \n",
       "10      10                  wrapped up ( live )          olly murs   \n",
       "\n",
       "                                                    Genre   Released  \n",
       "0     country , music , contemporary country , honky tonk  31-Mar-15  \n",
       "2        pop , music , pop/rock , dance , rock , teen pop   9-Jan-15  \n",
       "3                                         holiday , music  24-Nov-14  \n",
       "4326         country , music , contemporary country , pop  14-Aug-07  \n",
       "10                                            pop , music  21-Apr-15  "
      ]
     },
     "execution_count": 11,
     "metadata": {},
     "output_type": "execute_result"
    }
   ],
   "source": [
    "sample_A.head()"
   ]
  },
  {
   "cell_type": "code",
   "execution_count": 12,
   "metadata": {},
   "outputs": [
    {
     "data": {
      "text/html": [
       "<div>\n",
       "<style scoped>\n",
       "    .dataframe tbody tr th:only-of-type {\n",
       "        vertical-align: middle;\n",
       "    }\n",
       "\n",
       "    .dataframe tbody tr th {\n",
       "        vertical-align: top;\n",
       "    }\n",
       "\n",
       "    .dataframe thead th {\n",
       "        text-align: right;\n",
       "    }\n",
       "</style>\n",
       "<table border=\"1\" class=\"dataframe\">\n",
       "  <thead>\n",
       "    <tr style=\"text-align: right;\">\n",
       "      <th></th>\n",
       "      <th>id</th>\n",
       "      <th>Song_Name</th>\n",
       "      <th>Artist_Name</th>\n",
       "      <th>Genre</th>\n",
       "      <th>Released</th>\n",
       "    </tr>\n",
       "  </thead>\n",
       "  <tbody>\n",
       "    <tr>\n",
       "      <th>6027</th>\n",
       "      <td>17350</td>\n",
       "      <td>make it stop (september's children)</td>\n",
       "      <td>rise against</td>\n",
       "      <td>pop</td>\n",
       "      <td>2011</td>\n",
       "    </tr>\n",
       "    <tr>\n",
       "      <th>22805</th>\n",
       "      <td>68381</td>\n",
       "      <td>hey hey hey</td>\n",
       "      <td>michael franti &amp; spearhead</td>\n",
       "      <td>reggae</td>\n",
       "      <td>2010</td>\n",
       "    </tr>\n",
       "    <tr>\n",
       "      <th>10782</th>\n",
       "      <td>31934</td>\n",
       "      <td>love you back</td>\n",
       "      <td>rhett akins</td>\n",
       "      <td>country</td>\n",
       "      <td>1996</td>\n",
       "    </tr>\n",
       "    <tr>\n",
       "      <th>23232</th>\n",
       "      <td>69743</td>\n",
       "      <td>blinded</td>\n",
       "      <td>the movement</td>\n",
       "      <td>reggae</td>\n",
       "      <td>2016</td>\n",
       "    </tr>\n",
       "    <tr>\n",
       "      <th>11263</th>\n",
       "      <td>33793</td>\n",
       "      <td>sing me home</td>\n",
       "      <td>tim mcgraw</td>\n",
       "      <td>country</td>\n",
       "      <td>2002</td>\n",
       "    </tr>\n",
       "  </tbody>\n",
       "</table>\n",
       "</div>"
      ],
      "text/plain": [
       "          id                            Song_Name                 Artist_Name  \\\n",
       "6027   17350  make it stop (september's children)                rise against   \n",
       "22805  68381                          hey hey hey  michael franti & spearhead   \n",
       "10782  31934                        love you back                 rhett akins   \n",
       "23232  69743                              blinded                the movement   \n",
       "11263  33793                         sing me home                  tim mcgraw   \n",
       "\n",
       "         Genre  Released  \n",
       "6027       pop      2011  \n",
       "22805   reggae      2010  \n",
       "10782  country      1996  \n",
       "23232   reggae      2016  \n",
       "11263  country      2002  "
      ]
     },
     "execution_count": 12,
     "metadata": {},
     "output_type": "execute_result"
    }
   ],
   "source": [
    "sample_B.head()"
   ]
  },
  {
   "cell_type": "code",
   "execution_count": 13,
   "metadata": {},
   "outputs": [
    {
     "name": "stderr",
     "output_type": "stream",
     "text": [
      "C:\\Users\\minx\\AppData\\Local\\Temp\\ipykernel_4976\\3501017079.py:6: UserWarning: Could not infer format, so each element will be parsed individually, falling back to `dateutil`. To ensure parsing is consistent and as-expected, please specify a format.\n",
      "  sample_A['Released'] = pd.to_datetime(sample_A['Released']).dt.year.astype(int64)\n"
     ]
    }
   ],
   "source": [
    "## Sort the data by the key attribute\n",
    "sample_A = sample_A.sort_values('id')\n",
    "sample_B = sample_B.sort_values('id')\n",
    "\n",
    "## Convert sampleA's 'Released' attribute to year\n",
    "sample_A['Released'] = pd.to_datetime(sample_A['Released']).dt.year.astype(int64)"
   ]
  },
  {
   "cell_type": "code",
   "execution_count": 14,
   "metadata": {},
   "outputs": [
    {
     "name": "stdout",
     "output_type": "stream",
     "text": [
      "Sample A:\n",
      "id              int64\n",
      "Song_Name      object\n",
      "Artist_Name    object\n",
      "Genre          object\n",
      "Released        int64\n",
      "dtype: object\n",
      "======================\n",
      "Sample B:\n",
      "id              int64\n",
      "Song_Name      object\n",
      "Artist_Name    object\n",
      "Genre          object\n",
      "Released        int64\n",
      "dtype: object\n"
     ]
    }
   ],
   "source": [
    "# Check type\n",
    "print(\"Sample A:\")\n",
    "print(sample_A.dtypes)\n",
    "print(\"======================\\nSample B:\")\n",
    "print(sample_B.dtypes)"
   ]
  },
  {
   "cell_type": "code",
   "execution_count": 15,
   "metadata": {},
   "outputs": [
    {
     "data": {
      "text/html": [
       "<div>\n",
       "<style scoped>\n",
       "    .dataframe tbody tr th:only-of-type {\n",
       "        vertical-align: middle;\n",
       "    }\n",
       "\n",
       "    .dataframe tbody tr th {\n",
       "        vertical-align: top;\n",
       "    }\n",
       "\n",
       "    .dataframe thead th {\n",
       "        text-align: right;\n",
       "    }\n",
       "</style>\n",
       "<table border=\"1\" class=\"dataframe\">\n",
       "  <thead>\n",
       "    <tr style=\"text-align: right;\">\n",
       "      <th></th>\n",
       "      <th>id</th>\n",
       "      <th>Song_Name</th>\n",
       "      <th>Artist_Name</th>\n",
       "      <th>Genre</th>\n",
       "      <th>Released</th>\n",
       "    </tr>\n",
       "  </thead>\n",
       "  <tbody>\n",
       "    <tr>\n",
       "      <th>0</th>\n",
       "      <td>0</td>\n",
       "      <td>runaway train</td>\n",
       "      <td>cam</td>\n",
       "      <td>country , music , contemporary country , honky tonk</td>\n",
       "      <td>2015</td>\n",
       "    </tr>\n",
       "    <tr>\n",
       "      <th>2</th>\n",
       "      <td>2</td>\n",
       "      <td>lips are movin</td>\n",
       "      <td>meghan trainor</td>\n",
       "      <td>pop , music , pop/rock , dance , rock , teen pop</td>\n",
       "      <td>2015</td>\n",
       "    </tr>\n",
       "    <tr>\n",
       "      <th>3</th>\n",
       "      <td>3</td>\n",
       "      <td>i want a hippopotamus for christmas</td>\n",
       "      <td>a great big world</td>\n",
       "      <td>holiday , music</td>\n",
       "      <td>2014</td>\n",
       "    </tr>\n",
       "    <tr>\n",
       "      <th>10</th>\n",
       "      <td>10</td>\n",
       "      <td>wrapped up ( live )</td>\n",
       "      <td>olly murs</td>\n",
       "      <td>pop , music</td>\n",
       "      <td>2015</td>\n",
       "    </tr>\n",
       "    <tr>\n",
       "      <th>13</th>\n",
       "      <td>13</td>\n",
       "      <td>on trees and birds and fire ( chs6 edit ) [ sam feldt &amp; bloombox remix ]</td>\n",
       "      <td>i am oak</td>\n",
       "      <td>dance , music</td>\n",
       "      <td>2015</td>\n",
       "    </tr>\n",
       "  </tbody>\n",
       "</table>\n",
       "</div>"
      ],
      "text/plain": [
       "    id  \\\n",
       "0    0   \n",
       "2    2   \n",
       "3    3   \n",
       "10  10   \n",
       "13  13   \n",
       "\n",
       "                                                                   Song_Name  \\\n",
       "0                                                              runaway train   \n",
       "2                                                             lips are movin   \n",
       "3                                        i want a hippopotamus for christmas   \n",
       "10                                                       wrapped up ( live )   \n",
       "13  on trees and birds and fire ( chs6 edit ) [ sam feldt & bloombox remix ]   \n",
       "\n",
       "          Artist_Name                                                Genre  \\\n",
       "0                 cam  country , music , contemporary country , honky tonk   \n",
       "2      meghan trainor     pop , music , pop/rock , dance , rock , teen pop   \n",
       "3   a great big world                                      holiday , music   \n",
       "10          olly murs                                          pop , music   \n",
       "13           i am oak                                        dance , music   \n",
       "\n",
       "    Released  \n",
       "0       2015  \n",
       "2       2015  \n",
       "3       2014  \n",
       "10      2015  \n",
       "13      2015  "
      ]
     },
     "execution_count": 15,
     "metadata": {},
     "output_type": "execute_result"
    }
   ],
   "source": [
    "sample_A.head()"
   ]
  },
  {
   "cell_type": "code",
   "execution_count": 16,
   "metadata": {},
   "outputs": [
    {
     "data": {
      "text/html": [
       "<div>\n",
       "<style scoped>\n",
       "    .dataframe tbody tr th:only-of-type {\n",
       "        vertical-align: middle;\n",
       "    }\n",
       "\n",
       "    .dataframe tbody tr th {\n",
       "        vertical-align: top;\n",
       "    }\n",
       "\n",
       "    .dataframe thead th {\n",
       "        text-align: right;\n",
       "    }\n",
       "</style>\n",
       "<table border=\"1\" class=\"dataframe\">\n",
       "  <thead>\n",
       "    <tr style=\"text-align: right;\">\n",
       "      <th></th>\n",
       "      <th>id</th>\n",
       "      <th>Song_Name</th>\n",
       "      <th>Artist_Name</th>\n",
       "      <th>Genre</th>\n",
       "      <th>Released</th>\n",
       "    </tr>\n",
       "  </thead>\n",
       "  <tbody>\n",
       "    <tr>\n",
       "      <th>0</th>\n",
       "      <td>0</td>\n",
       "      <td>mohabbat bhi jhoothi</td>\n",
       "      <td>mukesh</td>\n",
       "      <td>pop</td>\n",
       "      <td>1950</td>\n",
       "    </tr>\n",
       "    <tr>\n",
       "      <th>1</th>\n",
       "      <td>4</td>\n",
       "      <td>i believe</td>\n",
       "      <td>frankie laine</td>\n",
       "      <td>pop</td>\n",
       "      <td>1950</td>\n",
       "    </tr>\n",
       "    <tr>\n",
       "      <th>5</th>\n",
       "      <td>14</td>\n",
       "      <td>round and round (with mitchell ayres and his orchestra &amp; the ray charles singers)</td>\n",
       "      <td>perry como</td>\n",
       "      <td>pop</td>\n",
       "      <td>1950</td>\n",
       "    </tr>\n",
       "    <tr>\n",
       "      <th>8</th>\n",
       "      <td>20</td>\n",
       "      <td>klapse me mana klapse me</td>\n",
       "      <td>stélios kazantzídis</td>\n",
       "      <td>pop</td>\n",
       "      <td>1950</td>\n",
       "    </tr>\n",
       "    <tr>\n",
       "      <th>12</th>\n",
       "      <td>33</td>\n",
       "      <td>necessary evil</td>\n",
       "      <td>frankie laine</td>\n",
       "      <td>pop</td>\n",
       "      <td>1951</td>\n",
       "    </tr>\n",
       "  </tbody>\n",
       "</table>\n",
       "</div>"
      ],
      "text/plain": [
       "    id  \\\n",
       "0    0   \n",
       "1    4   \n",
       "5   14   \n",
       "8   20   \n",
       "12  33   \n",
       "\n",
       "                                                                            Song_Name  \\\n",
       "0                                                                mohabbat bhi jhoothi   \n",
       "1                                                                           i believe   \n",
       "5   round and round (with mitchell ayres and his orchestra & the ray charles singers)   \n",
       "8                                                            klapse me mana klapse me   \n",
       "12                                                                     necessary evil   \n",
       "\n",
       "            Artist_Name Genre  Released  \n",
       "0                mukesh   pop      1950  \n",
       "1         frankie laine   pop      1950  \n",
       "5            perry como   pop      1950  \n",
       "8   stélios kazantzídis   pop      1950  \n",
       "12        frankie laine   pop      1951  "
      ]
     },
     "execution_count": 16,
     "metadata": {},
     "output_type": "execute_result"
    }
   ],
   "source": [
    "sample_B.head()"
   ]
  },
  {
   "cell_type": "code",
   "execution_count": 17,
   "metadata": {},
   "outputs": [],
   "source": [
    "## Export the downsampled data\n",
    "os.makedirs('../newdata', exist_ok=True)\n",
    "sample_A.to_csv('../newdata/tableA_downsampled.csv', index=False)\n",
    "sample_B.to_csv('../newdata/tableB_downsampled.csv', index=False)"
   ]
  },
  {
   "cell_type": "markdown",
   "metadata": {},
   "source": [
    "### 2. Blocking"
   ]
  },
  {
   "cell_type": "code",
   "execution_count": 18,
   "metadata": {},
   "outputs": [],
   "source": [
    "## Import some necessary libraries\n",
    "\n",
    "import datetime\n",
    "from numpy import int64\n",
    "import py_entitymatching as em\n",
    "import pandas as pd\n",
    "import os, sys"
   ]
  },
  {
   "cell_type": "code",
   "execution_count": 19,
   "metadata": {},
   "outputs": [
    {
     "name": "stderr",
     "output_type": "stream",
     "text": [
      "Metadata file is not present in the given path; proceeding to read the csv file.\n",
      "Metadata file is not present in the given path; proceeding to read the csv file.\n"
     ]
    }
   ],
   "source": [
    "## Load sampled files\n",
    "A = em.read_csv_metadata('../newdata/tableA_downsampled.csv', key='id')\n",
    "B = em.read_csv_metadata('../newdata/tableB_downsampled.csv', key='id')"
   ]
  },
  {
   "cell_type": "code",
   "execution_count": 20,
   "metadata": {},
   "outputs": [],
   "source": [
    "## Attribute equivalence blocker is chosen as the blocking method\n",
    "ab = em.AttrEquivalenceBlocker()\n",
    "\n",
    "# Candidate generation\n",
    "C = ab.block_tables(A, B, 'Song_Name', 'Song_Name', l_output_attrs=['Song_Name', 'Artist_Name', 'Genre', 'Released'], r_output_attrs=['Song_Name', 'Artist_Name', 'Genre', 'Released'])"
   ]
  },
  {
   "cell_type": "code",
   "execution_count": 21,
   "metadata": {},
   "outputs": [
    {
     "name": "stdout",
     "output_type": "stream",
     "text": [
      "218\n"
     ]
    }
   ],
   "source": [
    "## Show the number of tuple pairs in the candidate set\n",
    "print(len(C))"
   ]
  }
 ],
 "metadata": {
  "kernelspec": {
   "display_name": "Python 3",
   "language": "python",
   "name": "python3"
  },
  "language_info": {
   "codemirror_mode": {
    "name": "ipython",
    "version": 3
   },
   "file_extension": ".py",
   "mimetype": "text/x-python",
   "name": "python",
   "nbconvert_exporter": "python",
   "pygments_lexer": "ipython3",
   "version": "3.12.2"
  }
 },
 "nbformat": 4,
 "nbformat_minor": 2
}
